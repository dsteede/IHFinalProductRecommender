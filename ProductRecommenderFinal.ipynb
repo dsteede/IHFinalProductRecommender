{
 "cells": [
  {
   "cell_type": "markdown",
   "id": "428d9ba4-b466-48aa-a7ef-75a490608edd",
   "metadata": {},
   "source": [
    "# Upload Clean Dataset"
   ]
  },
  {
   "cell_type": "code",
   "execution_count": 1,
   "id": "22193c32-7d28-47bb-b02b-68c6e1478a87",
   "metadata": {},
   "outputs": [
    {
     "name": "stdout",
     "output_type": "stream",
     "text": [
      "  product_id               product_name brand_name  loves_count  rating  \\\n",
      "0    P473671    Fragrance Discovery Set      19-69         6320  3.6364   \n",
      "1    P473668    La Habana Eau de Parfum      19-69         3827  4.1538   \n",
      "2    P473662  Rainbow Bar Eau de Parfum      19-69         3253  4.2500   \n",
      "3    P473660       Kasbah Eau de Parfum      19-69         3018  4.4762   \n",
      "4    P473658  Purple Haze Eau de Parfum      19-69         2691  3.2308   \n",
      "\n",
      "   reviews  price_usd primary_category secondary_category  tertiary_category  \n",
      "0     11.0       35.0        Fragrance  Value & Gift Sets  Perfume Gift Sets  \n",
      "1     13.0      195.0        Fragrance              Women            Perfume  \n",
      "2     16.0      195.0        Fragrance              Women            Perfume  \n",
      "3     21.0      195.0        Fragrance              Women            Perfume  \n",
      "4     13.0      195.0        Fragrance              Women            Perfume  \n"
     ]
    }
   ],
   "source": [
    "import pandas as pd\n",
    "\n",
    "# Load the cleaned data into a DataFrame\n",
    "ProductsReviewsCC = pd.read_csv('productsreviews_cleaned_filled.csv')\n",
    "\n",
    "# Display the first few rows to confirm the data is loaded correctly\n",
    "print(ProductsReviewsCC.head())"
   ]
  },
  {
   "cell_type": "markdown",
   "id": "669d1573-6f85-4cd8-8656-2c556331ef66",
   "metadata": {},
   "source": [
    "## Defining Features and Target\n",
    "\n",
    "Feature Selection: The selected features list specifies the columns used as inputs for the model. The features ('price_usd', 'rating', and 'reviews') are chosen because they are expected to influence the loves_count (popularity) of a product.\n",
    "\n",
    "Define X and y: X is a DataFrame containing the selected features that will be used to predict the target variable. y is a Series that contains the target variable ('loves_count'). In this context, loves_count is a measure of a product's popularity, which the model aims to predict."
   ]
  },
  {
   "cell_type": "code",
   "execution_count": 2,
   "id": "4d819c1f-60ea-4913-af7f-3ee782801e20",
   "metadata": {},
   "outputs": [],
   "source": [
    "# Feature selection\n",
    "selected_features = ['price_usd', 'rating', 'reviews']\n",
    "\n",
    "# Define X (features) and y (target)\n",
    "X = ProductsReviewsCC[selected_features]\n",
    "y = ProductsReviewsCC['loves_count']\n"
   ]
  },
  {
   "cell_type": "markdown",
   "id": "52334569-8454-47b7-a255-dd284c020d86",
   "metadata": {},
   "source": [
    "## Training Using Pasting\n",
    "\n",
    "In this section, I implement the pasting technique, which involves training multiple decision tree regressors on different subsets of the data. This helps in reducing the variance and improving the robustness of the model.\n",
    "\n",
    "I predict the target variable for the test set by averaging the predictions from each decision tree. This aggregation helps in achieving a more reliable prediction."
   ]
  },
  {
   "cell_type": "code",
   "execution_count": 3,
   "id": "69401b8e-1a27-447b-8641-c75d54c01435",
   "metadata": {},
   "outputs": [
    {
     "name": "stdout",
     "output_type": "stream",
     "text": [
      "Pasting - Mean Squared Error: 1826009526.5866172\n",
      "Pasting - R-squared: 0.5823196751407739\n"
     ]
    }
   ],
   "source": [
    "from sklearn.tree import DecisionTreeRegressor\n",
    "from sklearn.model_selection import train_test_split\n",
    "import numpy as np\n",
    "\n",
    "# Number of subsets and models\n",
    "\n",
    "n_subsets = 10\n",
    "subset_size = len(X) // n_subsets\n",
    "subsets_X = []\n",
    "subsets_y = []\n",
    "\n",
    "for i in range(n_subsets):\n",
    "    X_subset = X.iloc[i * subset_size:(i + 1) * subset_size]\n",
    "    y_subset = y.iloc[i * subset_size:(i + 1) * subset_size]\n",
    "    subsets_X.append(X_subset)\n",
    "    subsets_y.append(y_subset)\n",
    "\n",
    "#Training the Model\n",
    "\n",
    "trees = []\n",
    "for X_subset, y_subset in zip(subsets_X, subsets_y):\n",
    "    tree = DecisionTreeRegressor(random_state=42)\n",
    "    tree.fit(X_subset, y_subset)\n",
    "    trees.append(tree)\n",
    "# This averaging reduces variance and improves prediction accuracy.\n",
    "def average_predictions(trees, X):\n",
    "    predictions = np.array([tree.predict(X) for tree in trees])\n",
    "    avg_predictions = np.mean(predictions, axis=0)\n",
    "    return avg_predictions\n",
    "\n",
    "# Data Splitting\n",
    "X_train, X_test, y_train, y_test = train_test_split(X, y, test_size=0.2, random_state=42)\n",
    "y_pred_pasting = average_predictions(trees, X_test)\n",
    "\n",
    "#Evaluating\n",
    "from sklearn.metrics import mean_squared_error, r2_score\n",
    "mse_pasting = mean_squared_error(y_test, y_pred_pasting)\n",
    "r2_pasting = r2_score(y_test, y_pred_pasting)\n",
    "print(f\"Pasting - Mean Squared Error: {mse_pasting}\")\n",
    "print(f\"Pasting - R-squared: {r2_pasting}\")"
   ]
  },
  {
   "cell_type": "markdown",
   "id": "13c78825-67bc-47fb-ac74-cfdeab888ac4",
   "metadata": {},
   "source": [
    "## Recommendation Function\n",
    "\n",
    "This function filters products based on the user's input category and predicts the loves_count for these filtered products. It then sorts them by the predicted loves_count and returns the top recommendations."
   ]
  },
  {
   "cell_type": "code",
   "execution_count": 4,
   "id": "398f6f7b-000a-43b6-af52-01b874d8df8e",
   "metadata": {},
   "outputs": [],
   "source": [
    "def recommend_products_with_pasting(category, num_recommendations=5):\n",
    "    global ProductsReviewsCC\n",
    "    \n",
    "    filtered_products = ProductsReviewsCC[ProductsReviewsCC['tertiary_category'].str.contains(category, case=False, na=False)]\n",
    "    \n",
    "    if filtered_products.empty:\n",
    "        print(f\"No products found for category '{category}'.\")\n",
    "        return pd.DataFrame()\n",
    "    \n",
    "    X_filtered = filtered_products[selected_features]\n",
    "    filtered_products['predicted_loves_count'] = average_predictions(trees, X_filtered)\n",
    "    \n",
    "    top_products = filtered_products.sort_values(by='predicted_loves_count', ascending=False).head(num_recommendations)\n",
    "    \n",
    "    return top_products[['product_name', 'brand_name', 'price_usd', 'rating']]\n"
   ]
  },
  {
   "cell_type": "markdown",
   "id": "0ca201af-7236-49b1-a210-85f7a6180c09",
   "metadata": {},
   "source": [
    "## User Interaction\n",
    "\n",
    "The user interacts with the system by entering the product category they are interested in. The system then provides the top product recommendations based on the trained model.\n",
    "\n",
    "These are the options of products you can get recommendations on: \n",
    "\n",
    "Accessories, Aftershave, Anti-Aging, BB & CC Cream, BB & CC Creams\n",
    "Bath Soaks & Bubble Bath, Beauty Supplements, Blemish & Acne Treatments, Blotting Papers, Blush, Body Lotions & Body Oils, Body Mist & Hair Mist, Body Products, Body Sunscreen, Body Wash & Shower Gel, Bronzer, Brush Cleaners, Brush Sets, Brushes & Combs, Candles, Cellulite & Stretch Marks, Cheek Palettes, Cologne, Cologne Gift Sets, Color Care, Color Correct, Concealer, Conditioner, Contour, Curling Irons, Damaged Hair, Decollete & Neck Creams, Deodorant & Antiperspirant, Diffusers, Dry Shampoo, Exfoliators, Eye Brushes, Eye Cream, Eye Creams & Treatments, Eye Masks, Eye Palettes, Eye Primer, Eye Sets, Eyebrow, Eyelash Curlers, Eyeliner, Eyeshadow, Face Brushes, Face Masks, Face Oils, Face Primer, Face Serums, Face Sets, Face Sunscreen, Face Wash, Face Wash & Cleansers, Face Wipes, Facial Cleansing Brushes, Facial Peels, Facial Rollers, False Eyelashes, For Body, For Face, Foundation, Hair Dryers, Hair Dye & Root Touch-Ups, Hair Masks, Hair Oil, Hair Primers, Hair Removal, Hair Spray, Hair Straighteners & Flat Irons, Hair Styling Products, Hair Supplements, Hair Thinning & Hair Loss, Hand Cream & Foot Cream, Hand Sanitizer & Hand Soap, Highlighter, Holistic Wellness, Intimate Care, Leave-In Conditioner, Lip Balm & Treatment, Lip Brushes, Lip Gloss, Lip Liner, Lip Plumper, Lip Sets, Lip Stain, Lipstick, Liquid Lipstick, Makeup & Travel Cases, Makeup Bags & Travel Cases, Makeup Removers, Manicure & Pedicure Tools, Mascara, Mists & Essences, Moisturizer & Treatments, Moisturizers, Night Creams, Perfume, Perfume Gift Sets, Rollerballs & Travel Size, Scalp Treatments, Scrub & Exfoliants, Setting Spray & Powder, Shampoo, Shampoo & Conditioner, Sharpeners, Shaving, Sheet Masks, Skincare Sets, Sponges & Applicators, Sunscreen, Teeth Whitening, Tinted Moisturizer, Toners, Tweezers & Eyebrow Tools, Under-Eye Concealer"
   ]
  },
  {
   "cell_type": "code",
   "execution_count": 5,
   "id": "dc03dff0-ff9f-4bee-9500-f04193891f7c",
   "metadata": {},
   "outputs": [
    {
     "name": "stdin",
     "output_type": "stream",
     "text": [
      "Enter the specific product type you're interested in (e.g., lipstick, serum):  Sunscreen\n",
      "How many recommendations would you like?  5\n"
     ]
    },
    {
     "name": "stderr",
     "output_type": "stream",
     "text": [
      "/var/folders/23/76v66l4s1xn769d5jn92h5mw0000gn/T/ipykernel_22463/459301000.py:11: SettingWithCopyWarning: \n",
      "A value is trying to be set on a copy of a slice from a DataFrame.\n",
      "Try using .loc[row_indexer,col_indexer] = value instead\n",
      "\n",
      "See the caveats in the documentation: https://pandas.pydata.org/pandas-docs/stable/user_guide/indexing.html#returning-a-view-versus-a-copy\n",
      "  filtered_products['predicted_loves_count'] = average_predictions(trees, X_filtered)\n"
     ]
    },
    {
     "name": "stdout",
     "output_type": "stream",
     "text": [
      "\n",
      "Top 5 products in the specific category 'Sunscreen':\n",
      "                                           product_name  brand_name  \\\n",
      "6804    Ultimate Sun Protector Lotion SPF 50+ Sunscreen    Shiseido   \n",
      "7255                      Unseen Sunscreen SPF 40 PA+++  Supergoop!   \n",
      "7257  Glowscreen Sunscreen SPF 40 PA+++ with Hyaluro...  Supergoop!   \n",
      "3542  Daily UV Defense Invisible Broad Spectrum SPF ...   innisfree   \n",
      "6807                      Clear Sunscreen Stick SPF 50+    Shiseido   \n",
      "\n",
      "      price_usd  rating  \n",
      "6804       50.0  4.4864  \n",
      "7255       48.0  4.2600  \n",
      "7257       38.0  4.1513  \n",
      "3542       16.0  4.5393  \n",
      "6807       30.0  4.6566  \n"
     ]
    },
    {
     "name": "stdin",
     "output_type": "stream",
     "text": [
      "Would you like more recommendations? (yes/no):  no\n"
     ]
    },
    {
     "name": "stdout",
     "output_type": "stream",
     "text": [
      "Thank you for using the recommender system!\n"
     ]
    }
   ],
   "source": [
    "def get_user_input_with_pasting():\n",
    "    while True:\n",
    "        category = input(\"Enter the specific product type you're interested in (e.g., lipstick, serum): \")\n",
    "        num_recommendations = int(input(\"How many recommendations would you like? \"))\n",
    "        \n",
    "        recommendations = recommend_products_with_pasting(category, num_recommendations)\n",
    "        if not recommendations.empty:\n",
    "            print(f\"\\nTop {num_recommendations} products in the specific category '{category}':\")\n",
    "            print(recommendations[['product_name', 'brand_name', 'price_usd', 'rating']])\n",
    "        \n",
    "        more_recs = input(\"Would you like more recommendations? (yes/no): \").strip().lower()\n",
    "        if more_recs == 'yes':\n",
    "            same_or_new = input(\"Would you like recommendations for the same category or a new one? (same/new): \").strip().lower()\n",
    "            if same_or_new == 'same':\n",
    "                continue\n",
    "            elif same_or_new == 'new':\n",
    "                continue\n",
    "            else:\n",
    "                print(\"Invalid input. Exiting.\")\n",
    "                break\n",
    "        elif more_recs == 'no':\n",
    "            print(\"Thank you for using the recommender system!\")\n",
    "            break\n",
    "        else:\n",
    "            print(\"Invalid input. Exiting.\")\n",
    "            break\n",
    "\n",
    "# Main process\n",
    "get_user_input_with_pasting()\n"
   ]
  },
  {
   "cell_type": "markdown",
   "id": "8da20323-7f35-4052-a6f5-042167759e15",
   "metadata": {},
   "source": [
    "## DONE"
   ]
  }
 ],
 "metadata": {
  "kernelspec": {
   "display_name": "Python 3 (ipykernel)",
   "language": "python",
   "name": "python3"
  },
  "language_info": {
   "codemirror_mode": {
    "name": "ipython",
    "version": 3
   },
   "file_extension": ".py",
   "mimetype": "text/x-python",
   "name": "python",
   "nbconvert_exporter": "python",
   "pygments_lexer": "ipython3",
   "version": "3.11.7"
  }
 },
 "nbformat": 4,
 "nbformat_minor": 5
}
