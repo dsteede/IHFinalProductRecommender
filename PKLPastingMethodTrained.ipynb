{
 "cells": [
  {
   "cell_type": "code",
   "execution_count": 1,
   "id": "8e5d2f25-7a2a-45dd-b4e0-0058ded1f571",
   "metadata": {},
   "outputs": [
    {
     "name": "stderr",
     "output_type": "stream",
     "text": [
      "/opt/anaconda3/lib/python3.11/site-packages/sklearn/ensemble/_base.py:166: FutureWarning: `base_estimator` was renamed to `estimator` in version 1.2 and will be removed in 1.4.\n",
      "  warnings.warn(\n"
     ]
    },
    {
     "name": "stdout",
     "output_type": "stream",
     "text": [
      "Pasting - Mean Squared Error: 2048299706.0897012\n",
      "Pasting - R-squared: 0.5314731526905747\n",
      "Model saved as 'pasting_model.pkl'\n"
     ]
    }
   ],
   "source": [
    "# Importing necessary libraries\n",
    "import pandas as pd\n",
    "from sklearn.ensemble import BaggingRegressor\n",
    "from sklearn.tree import DecisionTreeRegressor\n",
    "from sklearn.model_selection import train_test_split\n",
    "from sklearn.metrics import mean_squared_error, r2_score\n",
    "import joblib\n",
    "\n",
    "# Load your dataset\n",
    "ProductsReviewsCC = pd.read_csv('productsreviews_cleaned_filled.csv')\n",
    "\n",
    "# Define feature columns and target column\n",
    "features = ['price_usd', 'rating', 'reviews']\n",
    "target = 'loves_count'\n",
    "\n",
    "# Prepare the data\n",
    "X = ProductsReviewsCC[features]\n",
    "y = ProductsReviewsCC[target]\n",
    "\n",
    "# Split the data into training and testing sets\n",
    "X_train, X_test, y_train, y_test = train_test_split(X, y, test_size=0.2, random_state=42)\n",
    "\n",
    "# Train the Pasting (Bagging) model\n",
    "model = BaggingRegressor(base_estimator=DecisionTreeRegressor(), n_estimators=100, random_state=42)\n",
    "model.fit(X_train, y_train)\n",
    "\n",
    "# Evaluate the model (optional)\n",
    "y_pred = model.predict(X_test)\n",
    "mse = mean_squared_error(y_test, y_pred)\n",
    "r2 = r2_score(y_test, y_pred)\n",
    "print(f\"Pasting - Mean Squared Error: {mse}\")\n",
    "print(f\"Pasting - R-squared: {r2}\")\n",
    "\n",
    "# Save the trained model to a .pkl file\n",
    "joblib.dump(model, 'pasting_model.pkl')\n",
    "print(\"Model saved as 'pasting_model.pkl'\")"
   ]
  }
 ],
 "metadata": {
  "kernelspec": {
   "display_name": "Python 3 (ipykernel)",
   "language": "python",
   "name": "python3"
  },
  "language_info": {
   "codemirror_mode": {
    "name": "ipython",
    "version": 3
   },
   "file_extension": ".py",
   "mimetype": "text/x-python",
   "name": "python",
   "nbconvert_exporter": "python",
   "pygments_lexer": "ipython3",
   "version": "3.11.7"
  }
 },
 "nbformat": 4,
 "nbformat_minor": 5
}
