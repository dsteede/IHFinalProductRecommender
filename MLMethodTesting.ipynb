{
 "cells": [
  {
   "cell_type": "markdown",
   "id": "5bcc7c71-7583-4d29-acc2-1a81818d977a",
   "metadata": {},
   "source": [
    "## Notebook of Testing three different models to see which worked best with my product recommender machine."
   ]
  },
  {
   "cell_type": "code",
   "execution_count": 1,
   "id": "169e8757-58ed-431a-9cf4-0035b79ff183",
   "metadata": {},
   "outputs": [],
   "source": [
    "import pandas as pd\n",
    "from sklearn.tree import DecisionTreeRegressor\n",
    "from sklearn.model_selection import train_test_split\n",
    "from sklearn.metrics import mean_squared_error, r2_score"
   ]
  },
  {
   "cell_type": "markdown",
   "id": "a2e1dfa1-148c-4d3d-b634-569ee342667b",
   "metadata": {},
   "source": [
    "## Decision Tree"
   ]
  },
  {
   "cell_type": "code",
   "execution_count": 2,
   "id": "794ba219-47cc-406e-8caf-d0c152ba70aa",
   "metadata": {},
   "outputs": [
    {
     "name": "stdout",
     "output_type": "stream",
     "text": [
      "  product_id               product_name brand_name  loves_count  rating  \\\n",
      "0    P473671    Fragrance Discovery Set      19-69         6320  3.6364   \n",
      "1    P473668    La Habana Eau de Parfum      19-69         3827  4.1538   \n",
      "2    P473662  Rainbow Bar Eau de Parfum      19-69         3253  4.2500   \n",
      "3    P473660       Kasbah Eau de Parfum      19-69         3018  4.4762   \n",
      "4    P473658  Purple Haze Eau de Parfum      19-69         2691  3.2308   \n",
      "\n",
      "   reviews  price_usd primary_category secondary_category  tertiary_category  \n",
      "0     11.0       35.0        Fragrance  Value & Gift Sets  Perfume Gift Sets  \n",
      "1     13.0      195.0        Fragrance              Women            Perfume  \n",
      "2     16.0      195.0        Fragrance              Women            Perfume  \n",
      "3     21.0      195.0        Fragrance              Women            Perfume  \n",
      "4     13.0      195.0        Fragrance              Women            Perfume  \n"
     ]
    }
   ],
   "source": [
    "productsreviews_cleaned_filled = pd.read_csv('productsreviews_cleaned_filled.csv')\n",
    "\n",
    "# Display the first few rows of the DataFrame to ensure it's loaded correctly\n",
    "print(productsreviews_cleaned_filled.head())"
   ]
  },
  {
   "cell_type": "code",
   "execution_count": 3,
   "id": "4216e024-fb70-49e3-87ff-e98a865d64c4",
   "metadata": {},
   "outputs": [],
   "source": [
    "# Feature selection\n",
    "selected_features = ['price_usd', 'rating', 'reviews']\n",
    "\n",
    "# Define X (features) and y (target)\n",
    "X = productsreviews_cleaned_filled[selected_features]\n",
    "y = productsreviews_cleaned_filled['loves_count']\n"
   ]
  },
  {
   "cell_type": "code",
   "execution_count": 4,
   "id": "76bf5c76-81ed-4aee-8710-786a9011cef5",
   "metadata": {},
   "outputs": [],
   "source": [
    "# Split the data\n",
    "X_train, X_test, y_train, y_test = train_test_split(X, y, test_size=0.2, random_state=42)"
   ]
  },
  {
   "cell_type": "code",
   "execution_count": 5,
   "id": "db506760-6aff-4a2c-b1cf-43250a8e1fd0",
   "metadata": {},
   "outputs": [
    {
     "data": {
      "text/html": [
       "<style>#sk-container-id-1 {color: black;background-color: white;}#sk-container-id-1 pre{padding: 0;}#sk-container-id-1 div.sk-toggleable {background-color: white;}#sk-container-id-1 label.sk-toggleable__label {cursor: pointer;display: block;width: 100%;margin-bottom: 0;padding: 0.3em;box-sizing: border-box;text-align: center;}#sk-container-id-1 label.sk-toggleable__label-arrow:before {content: \"▸\";float: left;margin-right: 0.25em;color: #696969;}#sk-container-id-1 label.sk-toggleable__label-arrow:hover:before {color: black;}#sk-container-id-1 div.sk-estimator:hover label.sk-toggleable__label-arrow:before {color: black;}#sk-container-id-1 div.sk-toggleable__content {max-height: 0;max-width: 0;overflow: hidden;text-align: left;background-color: #f0f8ff;}#sk-container-id-1 div.sk-toggleable__content pre {margin: 0.2em;color: black;border-radius: 0.25em;background-color: #f0f8ff;}#sk-container-id-1 input.sk-toggleable__control:checked~div.sk-toggleable__content {max-height: 200px;max-width: 100%;overflow: auto;}#sk-container-id-1 input.sk-toggleable__control:checked~label.sk-toggleable__label-arrow:before {content: \"▾\";}#sk-container-id-1 div.sk-estimator input.sk-toggleable__control:checked~label.sk-toggleable__label {background-color: #d4ebff;}#sk-container-id-1 div.sk-label input.sk-toggleable__control:checked~label.sk-toggleable__label {background-color: #d4ebff;}#sk-container-id-1 input.sk-hidden--visually {border: 0;clip: rect(1px 1px 1px 1px);clip: rect(1px, 1px, 1px, 1px);height: 1px;margin: -1px;overflow: hidden;padding: 0;position: absolute;width: 1px;}#sk-container-id-1 div.sk-estimator {font-family: monospace;background-color: #f0f8ff;border: 1px dotted black;border-radius: 0.25em;box-sizing: border-box;margin-bottom: 0.5em;}#sk-container-id-1 div.sk-estimator:hover {background-color: #d4ebff;}#sk-container-id-1 div.sk-parallel-item::after {content: \"\";width: 100%;border-bottom: 1px solid gray;flex-grow: 1;}#sk-container-id-1 div.sk-label:hover label.sk-toggleable__label {background-color: #d4ebff;}#sk-container-id-1 div.sk-serial::before {content: \"\";position: absolute;border-left: 1px solid gray;box-sizing: border-box;top: 0;bottom: 0;left: 50%;z-index: 0;}#sk-container-id-1 div.sk-serial {display: flex;flex-direction: column;align-items: center;background-color: white;padding-right: 0.2em;padding-left: 0.2em;position: relative;}#sk-container-id-1 div.sk-item {position: relative;z-index: 1;}#sk-container-id-1 div.sk-parallel {display: flex;align-items: stretch;justify-content: center;background-color: white;position: relative;}#sk-container-id-1 div.sk-item::before, #sk-container-id-1 div.sk-parallel-item::before {content: \"\";position: absolute;border-left: 1px solid gray;box-sizing: border-box;top: 0;bottom: 0;left: 50%;z-index: -1;}#sk-container-id-1 div.sk-parallel-item {display: flex;flex-direction: column;z-index: 1;position: relative;background-color: white;}#sk-container-id-1 div.sk-parallel-item:first-child::after {align-self: flex-end;width: 50%;}#sk-container-id-1 div.sk-parallel-item:last-child::after {align-self: flex-start;width: 50%;}#sk-container-id-1 div.sk-parallel-item:only-child::after {width: 0;}#sk-container-id-1 div.sk-dashed-wrapped {border: 1px dashed gray;margin: 0 0.4em 0.5em 0.4em;box-sizing: border-box;padding-bottom: 0.4em;background-color: white;}#sk-container-id-1 div.sk-label label {font-family: monospace;font-weight: bold;display: inline-block;line-height: 1.2em;}#sk-container-id-1 div.sk-label-container {text-align: center;}#sk-container-id-1 div.sk-container {/* jupyter's `normalize.less` sets `[hidden] { display: none; }` but bootstrap.min.css set `[hidden] { display: none !important; }` so we also need the `!important` here to be able to override the default hidden behavior on the sphinx rendered scikit-learn.org. See: https://github.com/scikit-learn/scikit-learn/issues/21755 */display: inline-block !important;position: relative;}#sk-container-id-1 div.sk-text-repr-fallback {display: none;}</style><div id=\"sk-container-id-1\" class=\"sk-top-container\"><div class=\"sk-text-repr-fallback\"><pre>DecisionTreeRegressor(random_state=42)</pre><b>In a Jupyter environment, please rerun this cell to show the HTML representation or trust the notebook. <br />On GitHub, the HTML representation is unable to render, please try loading this page with nbviewer.org.</b></div><div class=\"sk-container\" hidden><div class=\"sk-item\"><div class=\"sk-estimator sk-toggleable\"><input class=\"sk-toggleable__control sk-hidden--visually\" id=\"sk-estimator-id-1\" type=\"checkbox\" checked><label for=\"sk-estimator-id-1\" class=\"sk-toggleable__label sk-toggleable__label-arrow\">DecisionTreeRegressor</label><div class=\"sk-toggleable__content\"><pre>DecisionTreeRegressor(random_state=42)</pre></div></div></div></div></div>"
      ],
      "text/plain": [
       "DecisionTreeRegressor(random_state=42)"
      ]
     },
     "execution_count": 5,
     "metadata": {},
     "output_type": "execute_result"
    }
   ],
   "source": [
    "# Train the Decision Tree Regressor\n",
    "tree_model = DecisionTreeRegressor(random_state=42)\n",
    "tree_model.fit(X_train, y_train)\n"
   ]
  },
  {
   "cell_type": "code",
   "execution_count": 6,
   "id": "442c176c-16ae-496c-a8b7-5c7c2439ab59",
   "metadata": {},
   "outputs": [
    {
     "name": "stdout",
     "output_type": "stream",
     "text": [
      "Decision Tree Regression - Mean Squared Error: 5450393036.033091\n",
      "Decision Tree Regression - R-squared: -0.2467196368664606\n"
     ]
    }
   ],
   "source": [
    "# Predict on test set\n",
    "y_pred = tree_model.predict(X_test)\n",
    "\n",
    "# Evaluate the model\n",
    "mse = mean_squared_error(y_test, y_pred)\n",
    "r2 = r2_score(y_test, y_pred)\n",
    "print(f\"Decision Tree Regression - Mean Squared Error: {mse}\")\n",
    "print(f\"Decision Tree Regression - R-squared: {r2}\")"
   ]
  },
  {
   "cell_type": "markdown",
   "id": "d926a24e-f531-4e50-bd20-762679ecbaf9",
   "metadata": {},
   "source": [
    "# Random Forest"
   ]
  },
  {
   "cell_type": "code",
   "execution_count": 8,
   "id": "e63caf17-bd3c-4014-b4d7-eeb650518f72",
   "metadata": {},
   "outputs": [
    {
     "name": "stdout",
     "output_type": "stream",
     "text": [
      "Random Forest Regression - Mean Squared Error: 2036515611.2064462\n",
      "Random Forest Regression - R-squared: 0.5341686394924485\n"
     ]
    },
    {
     "name": "stdin",
     "output_type": "stream",
     "text": [
      "Enter the specific product type you're interested in (e.g., lipstick, serum):  lipstick\n",
      "How many recommendations would you like?  2\n"
     ]
    },
    {
     "name": "stderr",
     "output_type": "stream",
     "text": [
      "/var/folders/23/76v66l4s1xn769d5jn92h5mw0000gn/T/ipykernel_21978/3746945365.py:23: SettingWithCopyWarning: \n",
      "A value is trying to be set on a copy of a slice from a DataFrame.\n",
      "Try using .loc[row_indexer,col_indexer] = value instead\n",
      "\n",
      "See the caveats in the documentation: https://pandas.pydata.org/pandas-docs/stable/user_guide/indexing.html#returning-a-view-versus-a-copy\n",
      "  filtered_products['predicted_loves_count'] = rf_regressor.predict(X_filtered)\n"
     ]
    },
    {
     "name": "stdout",
     "output_type": "stream",
     "text": [
      "\n",
      "Top 2 products in the specific category 'lipstick':\n",
      "                         product_name               brand_name  price_usd  \\\n",
      "6434  Cream Lip Stain Liquid Lipstick       SEPHORA COLLECTION       15.0   \n",
      "250                   Liquid Lipstick  Anastasia Beverly Hills       20.0   \n",
      "\n",
      "      rating  \n",
      "6434  4.3201  \n",
      "250   3.8268  \n"
     ]
    },
    {
     "name": "stdin",
     "output_type": "stream",
     "text": [
      "Would you like more recommendations? (yes/no):  no\n"
     ]
    },
    {
     "name": "stdout",
     "output_type": "stream",
     "text": [
      "Thank you for using the recommender system!\n"
     ]
    }
   ],
   "source": [
    "from sklearn.ensemble import RandomForestRegressor\n",
    "\n",
    "# Train Random Forest Regressor\n",
    "rf_regressor = RandomForestRegressor(n_estimators=100, random_state=42)\n",
    "rf_regressor.fit(X_train, y_train)\n",
    "\n",
    "# Evaluate the model\n",
    "y_pred_rf = rf_regressor.predict(X_test)\n",
    "mse_rf = mean_squared_error(y_test, y_pred_rf)\n",
    "r2_rf = r2_score(y_test, y_pred_rf)\n",
    "print(f\"Random Forest Regression - Mean Squared Error: {mse_rf}\")\n",
    "print(f\"Random Forest Regression - R-squared: {r2_rf}\")\n",
    "\n",
    "# Define recommendation function\n",
    "def recommend_products_with_rf(category, num_recommendations=5):\n",
    "    filtered_products = productsreviews_cleaned_filled[productsreviews_cleaned_filled['tertiary_category'].str.contains(category, case=False, na=False)]\n",
    "    \n",
    "    if filtered_products.empty:\n",
    "        print(f\"No products found for category '{category}'.\")\n",
    "        return pd.DataFrame()\n",
    "    \n",
    "    X_filtered = filtered_products[selected_features]\n",
    "    filtered_products['predicted_loves_count'] = rf_regressor.predict(X_filtered)\n",
    "    \n",
    "    top_products = filtered_products.sort_values(by='predicted_loves_count', ascending=False).head(num_recommendations)\n",
    "    \n",
    "    return top_products[['product_name', 'brand_name', 'price_usd', 'rating']]\n",
    "\n",
    "# User interaction\n",
    "def get_user_input_with_rf():\n",
    "    while True:\n",
    "        category = input(\"Enter the specific product type you're interested in (e.g., lipstick, serum): \")\n",
    "        num_recommendations = int(input(\"How many recommendations would you like? \"))\n",
    "        \n",
    "        recommendations = recommend_products_with_rf(category, num_recommendations)\n",
    "        if not recommendations.empty:\n",
    "            print(f\"\\nTop {num_recommendations} products in the specific category '{category}':\")\n",
    "            print(recommendations[['product_name', 'brand_name', 'price_usd', 'rating']])\n",
    "        \n",
    "        more_recs = input(\"Would you like more recommendations? (yes/no): \").strip().lower()\n",
    "        if more_recs == 'yes':\n",
    "            same_or_new = input(\"Would you like recommendations for the same category or a new one? (same/new): \").strip().lower()\n",
    "            if same_or_new == 'same':\n",
    "                continue\n",
    "            elif same_or_new == 'new':\n",
    "                continue\n",
    "            else:\n",
    "                print(\"Invalid input. Exiting.\")\n",
    "                break\n",
    "        elif more_recs == 'no':\n",
    "            print(\"Thank you for using the recommender system!\")\n",
    "            break\n",
    "        else:\n",
    "            print(\"Invalid input. Exiting.\")\n",
    "            break\n",
    "\n",
    "# Main process\n",
    "get_user_input_with_rf()\n"
   ]
  },
  {
   "cell_type": "markdown",
   "id": "cb9304ab-3ba3-41bb-88ba-793bcb66ba6c",
   "metadata": {},
   "source": [
    "# Pasting Method"
   ]
  },
  {
   "cell_type": "code",
   "execution_count": 9,
   "id": "af54376f-396a-4415-b164-66325bd0bb5c",
   "metadata": {},
   "outputs": [],
   "source": [
    "# Feature selection\n",
    "selected_features = ['price_usd', 'rating', 'reviews']\n",
    "\n",
    "# Define X (features) and y (target)\n",
    "X = productsreviews_cleaned_filled[selected_features]\n",
    "y = productsreviews_cleaned_filled['loves_count']\n"
   ]
  },
  {
   "cell_type": "code",
   "execution_count": 10,
   "id": "35b61c5a-7490-441d-a909-8e9e3ec41887",
   "metadata": {},
   "outputs": [],
   "source": [
    "from sklearn.tree import DecisionTreeRegressor\n",
    "from sklearn.model_selection import train_test_split\n",
    "import numpy as np\n",
    "\n",
    "# Number of subsets and models\n",
    "n_subsets = 10\n",
    "\n",
    "# Create subsets of the data\n",
    "subset_size = len(X) // n_subsets\n",
    "subsets_X = []\n",
    "subsets_y = []\n",
    "\n",
    "for i in range(n_subsets):\n",
    "    X_subset = X.iloc[i * subset_size:(i + 1) * subset_size]\n",
    "    y_subset = y.iloc[i * subset_size:(i + 1) * subset_size]\n",
    "    subsets_X.append(X_subset)\n",
    "    subsets_y.append(y_subset)\n",
    "    \n",
    "# Train a Decision Tree model for each subset\n",
    "trees = []\n",
    "for X_subset, y_subset in zip(subsets_X, subsets_y):\n",
    "    tree = DecisionTreeRegressor(random_state=42)\n",
    "    tree.fit(X_subset, y_subset)\n",
    "    trees.append(tree)\n"
   ]
  },
  {
   "cell_type": "code",
   "execution_count": 11,
   "id": "ece292c7-25a1-4e25-978b-e2924499c37c",
   "metadata": {},
   "outputs": [
    {
     "name": "stdout",
     "output_type": "stream",
     "text": [
      "Pasting - Mean Squared Error: 1826009526.5866172\n",
      "Pasting - R-squared: 0.5823196751407739\n"
     ]
    }
   ],
   "source": [
    "# Function to get average predictions from multiple models\n",
    "def average_predictions(trees, X):\n",
    "    predictions = np.array([tree.predict(X) for tree in trees])\n",
    "    avg_predictions = np.mean(predictions, axis=0)\n",
    "    return avg_predictions\n",
    "\n",
    "# Split data into training and testing sets\n",
    "X_train, X_test, y_train, y_test = train_test_split(X, y, test_size=0.2, random_state=42)\n",
    "\n",
    "# Get average predictions on the test set\n",
    "y_pred_pasting = average_predictions(trees, X_test)\n",
    "\n",
    "# Evaluate the model\n",
    "from sklearn.metrics import mean_squared_error, r2_score\n",
    "\n",
    "mse_pasting = mean_squared_error(y_test, y_pred_pasting)\n",
    "r2_pasting = r2_score(y_test, y_pred_pasting)\n",
    "print(f\"Pasting - Mean Squared Error: {mse_pasting}\")\n",
    "print(f\"Pasting - R-squared: {r2_pasting}\")"
   ]
  },
  {
   "cell_type": "markdown",
   "id": "d5f76ee8-1da6-44b1-8470-1ea3513454eb",
   "metadata": {},
   "source": [
    "## Scores and Decision to use Pasting Method"
   ]
  },
  {
   "cell_type": "markdown",
   "id": "4cf0abe0-2df3-44e8-bef9-521f293a6397",
   "metadata": {},
   "source": [
    "Decision Tree Regression - Mean Squared Error: 5450393036.033091\n",
    "Decision Tree Regression - R-squared: -0.2467196368664606\n",
    "\n",
    "Random Forest Regression - Mean Squared Error: 2036515611.2064462\n",
    "Random Forest Regression - R-squared: 0.5341686394924485\n",
    "\n",
    "Pasting - Mean Squared Error: 1826009526.5866172\n",
    "Pasting - R-squared: 0.5823196751407739\n",
    "\n",
    "________________________________________\n",
    "\n",
    "- The Decision Tree Regression model is not suitable for your recommender system due to its high error and poor explanatory power.\n",
    "- The Random Forest model is recommended because it performs well and is a good candidate for your product recommender system. It provides a balance between accuracy and interpretability.\n",
    "- The Pasting method is highly recommended as it outperforms both the Decision Tree and Random Forest in terms of both accuracy and explanatory power. It is the best choice for your product recommender system. The R-squared value of about 0.58 is the highest, suggesting that this model explains 58% of the variance in the target variable. This makes it the best model for predicting the loves_count based on your dataset."
   ]
  }
 ],
 "metadata": {
  "kernelspec": {
   "display_name": "Python 3 (ipykernel)",
   "language": "python",
   "name": "python3"
  },
  "language_info": {
   "codemirror_mode": {
    "name": "ipython",
    "version": 3
   },
   "file_extension": ".py",
   "mimetype": "text/x-python",
   "name": "python",
   "nbconvert_exporter": "python",
   "pygments_lexer": "ipython3",
   "version": "3.11.7"
  }
 },
 "nbformat": 4,
 "nbformat_minor": 5
}
